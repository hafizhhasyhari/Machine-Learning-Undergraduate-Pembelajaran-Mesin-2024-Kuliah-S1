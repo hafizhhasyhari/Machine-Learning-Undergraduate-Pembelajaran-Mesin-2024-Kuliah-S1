{
 "cells": [
  {
   "cell_type": "markdown",
   "id": "0c83d84f-e13b-4b56-b938-c58386d90ef3",
   "metadata": {},
   "source": [
    "# **LAPORAN PRAKTIKUM K-MEANS**\n",
    "#### - Hafizh Hilman Asyhari\n",
    "#### - Kelas D\n",
    "#### - NIM : 202331206\n",
    "#### - Prodi S1 Teknik Informatika\n",
    "#### - Mata Kuliah : Pembelajaran Mesin (Machine Learning)\n",
    "#### - Tahun 2024-2025"
   ]
  },
  {
   "cell_type": "code",
   "execution_count": 50,
   "id": "af8472e4-af3c-4502-a6e2-195d77f93b96",
   "metadata": {},
   "outputs": [],
   "source": [
    "import numpy as np\n",
    "import pandas as pd\n",
    "import matplotlib.pyplot as plt\n",
    "\n",
    "from sklearn.cluster import KMeans"
   ]
  },
  {
   "cell_type": "markdown",
   "id": "c1626eb3-312b-42dd-b02c-f8991a707056",
   "metadata": {},
   "source": [
    "- numpy: Digunakan untuk komputasi numerik, seperti operasi matriks dan jarak Euclidean.\n",
    "- pandas: Untuk membaca dan memproses dataset dalam format tabel (CSV).\n",
    "- matplotlib.pyplot: Digunakan untuk membuat visualisasi hasil clustering"
   ]
  },
  {
   "cell_type": "code",
   "execution_count": 22,
   "id": "88fade47-de83-4969-b0f7-4af0fc4e80fb",
   "metadata": {},
   "outputs": [],
   "source": [
    "data = pd.read_csv('sales.csv')"
   ]
  },
  {
   "cell_type": "markdown",
   "id": "4d6f25d4-38b2-4ab5-b911-ea4b2f7a445b",
   "metadata": {},
   "source": [
    "- data = pd.read_csv('sales.csv') Akan membaca file CSV bernama sales.csv ke dalam objek DataFrame data menggunakan pandas."
   ]
  },
  {
   "cell_type": "code",
   "execution_count": 25,
   "id": "cc64fd4f-45ce-4e41-84f7-93c9913913c3",
   "metadata": {},
   "outputs": [
    {
     "name": "stdout",
     "output_type": "stream",
     "text": [
      "  Product_Code  W0  W1  W2  W3  W4  W5  W6  W7  W8  ...  Normalized 42  \\\n",
      "0           P1  11  12  10   8  13  12  14  21   6  ...           0.06   \n",
      "1           P2   7   6   3   2   7   1   6   3   3  ...           0.20   \n",
      "2           P3   7  11   8   9  10   8   7  13  12  ...           0.27   \n",
      "3           P4  12   8  13   5   9   6   9  13  13  ...           0.41   \n",
      "4           P5   8   5  13  11   6   7   9  14   9  ...           0.27   \n",
      "\n",
      "   Normalized 43  Normalized 44  Normalized 45  Normalized 46  Normalized 47  \\\n",
      "0           0.22           0.28           0.39           0.50           0.00   \n",
      "1           0.40           0.50           0.10           0.10           0.40   \n",
      "2           1.00           0.18           0.18           0.36           0.45   \n",
      "3           0.47           0.06           0.12           0.24           0.35   \n",
      "4           0.53           0.27           0.60           0.20           0.20   \n",
      "\n",
      "   Normalized 48  Normalized 49  Normalized 50  Normalized 51  \n",
      "0           0.22           0.17           0.11           0.39  \n",
      "1           0.50           0.10           0.60           0.00  \n",
      "2           1.00           0.45           0.45           0.36  \n",
      "3           0.71           0.35           0.29           0.35  \n",
      "4           0.13           0.53           0.33           0.40  \n",
      "\n",
      "[5 rows x 107 columns]\n"
     ]
    }
   ],
   "source": [
    "print(data.head())"
   ]
  },
  {
   "cell_type": "code",
   "execution_count": 40,
   "id": "656ba662-4014-42b3-a1fc-35b4e28f4724",
   "metadata": {},
   "outputs": [
    {
     "name": "stdout",
     "output_type": "stream",
     "text": [
      "Index(['Product_Code', 'W0', 'W1', 'W2', 'W3', 'W4', 'W5', 'W6', 'W7', 'W8',\n",
      "       ...\n",
      "       'Normalized 42', 'Normalized 43', 'Normalized 44', 'Normalized 45',\n",
      "       'Normalized 46', 'Normalized 47', 'Normalized 48', 'Normalized 49',\n",
      "       'Normalized 50', 'Normalized 51'],\n",
      "      dtype='object', length=107)\n"
     ]
    }
   ],
   "source": [
    "print(data.columns)"
   ]
  },
  {
   "cell_type": "markdown",
   "id": "3a1482ad-8999-4d35-a915-fc4768e1f33a",
   "metadata": {},
   "source": [
    "- Bakalan memastiin data terbaca dengan betul. Berdasarkan 5 baris pertama dari dataset"
   ]
  },
  {
   "cell_type": "markdown",
   "id": "f898b5ff-37b9-4b61-b973-27e7f4fcffdd",
   "metadata": {},
   "source": [
    "#### Mengambil Kolom Fitur dari Dataset dan Mengonversinya ke Numpy Array:"
   ]
  },
  {
   "cell_type": "code",
   "execution_count": 58,
   "id": "8c1660f5-eacb-4621-83fa-77a820fe6137",
   "metadata": {},
   "outputs": [],
   "source": [
    "features = data[['W0', 'W1', 'W2', 'W3', 'W4']].to_numpy()"
   ]
  },
  {
   "cell_type": "code",
   "execution_count": 60,
   "id": "5edd303f-6d6f-4e7f-9c64-b9a738f8715a",
   "metadata": {},
   "outputs": [],
   "source": [
    "from sklearn.preprocessing import MinMaxScaler\n",
    "scaler = MinMaxScaler()\n",
    "normalized_features = scaler.fit_transform(features)"
   ]
  },
  {
   "cell_type": "code",
   "execution_count": 62,
   "id": "1cdd8211-75c5-476d-9c88-b64dcf283d3a",
   "metadata": {},
   "outputs": [],
   "source": [
    "features = scaler.fit_transform(data[['W0', 'W1', 'W2', 'W3', 'W4']])"
   ]
  },
  {
   "cell_type": "code",
   "execution_count": 56,
   "id": "f046accf-3807-4a68-a0e5-26c24aa8f45a",
   "metadata": {},
   "outputs": [],
   "source": [
    "k = 3  # Jumlah cluster\n",
    "max_iter = 100  # Iterasi maksimal"
   ]
  },
  {
   "cell_type": "markdown",
   "id": "9e954fb5-78e1-446d-9857-60bcf9ab7919",
   "metadata": {},
   "source": [
    "- k: Menentukan jumlah cluster yang ingin dibuat.\n",
    "- max_iter: Batas iterasi untuk menghentikan algoritma jika tidak konvergen lebih awal."
   ]
  },
  {
   "cell_type": "markdown",
   "id": "a947f062-aec9-47b5-a29b-54e08f5276f4",
   "metadata": {},
   "source": [
    "### Inisialisasi Centroid"
   ]
  },
  {
   "cell_type": "code",
   "execution_count": 65,
   "id": "35263aa7-885d-49c0-9c9f-cd5760c5bb9e",
   "metadata": {},
   "outputs": [],
   "source": [
    "np.random.seed(42)\n",
    "centroids = normalized_features[np.random.choice(normalized_features.shape[0], k, replace=False)]\n"
   ]
  },
  {
   "cell_type": "markdown",
   "id": "c1e382be-d54a-4d1b-8c9d-f749f96d39ed",
   "metadata": {},
   "source": [
    "- np.random.seed(42): Menentukan seed untuk hasil acak yang konsisten.\n",
    "- np.random.choice: Memilih k titik data secara acak sebagai centroid awal dari dataset yang telah dinormalisasi.\n"
   ]
  },
  {
   "cell_type": "markdown",
   "id": "0d95d406-abd7-4b80-b9c2-87a81c4a84e9",
   "metadata": {},
   "source": [
    "### Iterasi K-Means"
   ]
  },
  {
   "cell_type": "code",
   "execution_count": 74,
   "id": "36b33f5b-1a77-45f4-a784-304f0f36d493",
   "metadata": {},
   "outputs": [],
   "source": [
    "for _ in range(max_iter): 100"
   ]
  },
  {
   "cell_type": "markdown",
   "id": "ac6ebfe4-fadd-45ba-a28a-e3e1fdf6d731",
   "metadata": {},
   "source": [
    "- Melakukan iterasi hingga jumlah maksimum iterasi tercapai atau hingga centroid tidak berubah."
   ]
  },
  {
   "cell_type": "code",
   "execution_count": 76,
   "id": "638f51a1-43d3-4c4c-86f9-6ebfef31356c",
   "metadata": {},
   "outputs": [],
   "source": [
    "distances = np.linalg.norm(normalized_features[:, np.newaxis] - centroids, axis=2)"
   ]
  },
  {
   "cell_type": "markdown",
   "id": "7518d13a-59f0-4d21-af5f-5b99aa8bc4f2",
   "metadata": {},
   "source": [
    "- np.linalg.norm: Menghitung jarak Euclidean antara setiap titik data dan centroid.\n",
    "- normalized_features[:, np.newaxis]: Menambahkan dimensi baru untuk memungkinkan operasi pengurangan dengan centroids.\n"
   ]
  },
  {
   "cell_type": "markdown",
   "id": "54ee20ee-30c3-46c5-b5b4-0ac68469e954",
   "metadata": {},
   "source": [
    "### Menentukan Cluster Terdekat"
   ]
  },
  {
   "cell_type": "code",
   "execution_count": 83,
   "id": "f9816c0c-47f7-4354-99e9-141a02043929",
   "metadata": {},
   "outputs": [],
   "source": [
    "clusters = np.argmin(distances, axis=1)"
   ]
  },
  {
   "cell_type": "markdown",
   "id": "dd3e3ee7-5833-4c1f-adbe-02d6a8cf0f63",
   "metadata": {},
   "source": [
    "- np.argmin: Menentukan indeks cluster (centroid) terdekat berdasarkan jarak minimum.\n"
   ]
  },
  {
   "cell_type": "markdown",
   "id": "4644be7e-e015-42d4-ae56-bc2f3876e713",
   "metadata": {},
   "source": [
    "#### Memperbarui Centroid"
   ]
  },
  {
   "cell_type": "code",
   "execution_count": 91,
   "id": "3e348f59-db71-42b7-9fed-75f5a3145eb6",
   "metadata": {},
   "outputs": [],
   "source": [
    "new_centroids = []\n",
    "for c in range(k):\n",
    "    if np.any(clusters == c):\n",
    "        new_centroids.append(normalized_features[clusters == c].mean(axis=0))\n",
    "    else:\n",
    "        # Jika cluster kosong, gunakan centroid acak dari dataset\n",
    "        new_centroids.append(normalized_features[np.random.randint(0, normalized_features.shape[0])])\n",
    "new_centroids = np.array(new_centroids)\n"
   ]
  },
  {
   "cell_type": "markdown",
   "id": "247e8d5b-d354-44d4-bd8a-8acc36903960",
   "metadata": {},
   "source": [
    "- new_centroids = []: Inisialisasi list kosong untuk menyimpan centroid baru.\n",
    "- for c in range(k):: Melakukan iterasi sebanyak jumlah cluster (k).\n",
    "- if np.any(clusters == c):: Mengecek apakah ada data yang masuk ke dalam cluster ke-c. Jika ada, centroid baru untuk cluster ini dihitung.\n",
    "- normalized_features[clusters == c].mean(axis=0): Mengambil semua data yang tergabung dalam cluster c dan menghitung rata-rata untuk mendapatkan centroid baru.\n",
    "- else:: Jika tidak ada data di cluster (cluster kosong), maka sebuah centroid acak dipilih dari dataset.\n",
    "- new_centroids.append(normalized_features[np.random.randint(0, normalized_features.shape[0])]): Menambahkan centroid acak yang dipilih dari data ke dalam list new_centroids.\n",
    "- new_centroids = np.array(new_centroids): Mengonversi list new_centroids menjadi array numpy."
   ]
  },
  {
   "cell_type": "code",
   "execution_count": 93,
   "id": "a4ec97d0-7e2f-477d-97ed-04a0326ea55f",
   "metadata": {},
   "outputs": [],
   "source": [
    "assert np.all((clusters >= 0) & (clusters < k)), \"Clusters array contains invalid values.\"\n"
   ]
  },
  {
   "cell_type": "markdown",
   "id": "0cba303f-12e1-4553-a918-d3bc18d2166b",
   "metadata": {},
   "source": [
    "- assert np.all((clusters >= 0) & (clusters < k)): Memastikan bahwa semua nilai dalam array clusters adalah angka valid antara 0 dan k-1. Ini memastikan bahwa setiap data sudah terkelompok dalam cluster yang sah.\n",
    "- \"Clusters array contains invalid values.\": Pesan error yang akan muncul jika nilai dalam clusters tidak valid."
   ]
  },
  {
   "cell_type": "markdown",
   "id": "ce4da98a-5332-429a-b1ec-718228577709",
   "metadata": {},
   "source": [
    "#### Mencetak Centroid dan Penugasan Cluster:"
   ]
  },
  {
   "cell_type": "code",
   "execution_count": 104,
   "id": "0b74f878-20d4-40f0-a49f-ef772f7d6f5d",
   "metadata": {},
   "outputs": [
    {
     "name": "stdout",
     "output_type": "stream",
     "text": [
      "Centroids: [[0.         0.         0.         0.         0.        ]\n",
      " [0.01851852 0.         0.01785714 0.         0.        ]\n",
      " [0.         0.         0.         0.         0.        ]]\n",
      "Cluster Assignment: [1 1 1 1 1 1 1 1 1 1 1 1 1 1 1 1 1 1 1 1 1 1 1 1 1 1 1 1 1 1 1 1 1 1 1 1 1\n",
      " 1 1 1 1 1 1 1 1 1 1 1 1 1 1 1 1 1 1 1 1 1 1 1 1 1 1 1 1 1 1 1 1 1 1 1 1 1\n",
      " 1 1 1 1 1 1 1 1 1 1 1 1 1 1 1 1 1 1 1 1 1 1 1 1 1 1 1 1 1 1 1 1 1 1 1 1 1\n",
      " 1 1 1 1 1 1 1 1 1 1 1 1 1 1 1 1 1 1 1 1 1 1 1 1 1 1 1 1 1 1 1 1 1 1 1 1 1\n",
      " 1 1 1 1 1 1 1 1 1 1 1 1 1 1 1 1 1 1 1 1 1 1 1 1 1 1 1 1 1 1 1 1 1 1 1 1 1\n",
      " 1 1 1 1 1 1 1 1 1 1 1 1 1 1 1 1 1 1 1 1 1 1 1 1 1 1 0 0 0 0 0 0 0 0 0 0 0\n",
      " 0 0 0 0 1 0 0 0 0 0 0 0 0 0 0 0 0 0 0 0 0 0 1 0 1 0 0 0 0 0 0 0 1 0 0 0 0\n",
      " 0 1 1 1 1 0 1 1 1 1 1 1 0 0 0 0 0 0 0 0 0 1 0 0 1 1 1 0 1 0 0 1 1 1 1 1 1\n",
      " 1 1 1 1 1 1 1 1 1 1 1 1 1 1 1 1 1 1 1 1 1 1 1 1 1 1 1 1 1 1 1 1 1 1 1 1 1\n",
      " 1 1 1 1 1 0 0 1 1 1 1 1 0 1 1 0 0 0 0 0 0 1 1 1 1 1 1 1 1 1 1 1 1 1 1 1 1\n",
      " 1 0 1 1 0 1 0 0 0 0 0 0 1 0 1 1 1 1 0 1 1 1 1 0 1 1 1 1 1 1 1 1 1 1 1 1 1\n",
      " 1 1 1 1 1 1 1 0 0 0 0 0 1 0 0 0 0 0 0 1 1 1 1 1 1 1 1 1 1 1 1 0 0 0 0 0 0\n",
      " 0 0 0 1 1 0 0 0 0 0 0 0 0 1 0 0 0 0 0 0 0 0 0 0 0 0 0 0 1 1 1 1 0 0 1 0 0\n",
      " 1 1 1 1 1 1 1 1 1 1 1 1 1 1 1 1 1 1 1 1 1 1 1 1 1 1 1 1 1 1 1 1 1 1 1 1 1\n",
      " 1 1 1 1 1 1 1 1 1 1 1 1 1 1 1 1 1 1 1 1 1 1 1 1 1 1 1 1 1 1 1 1 1 1 1 1 1\n",
      " 1 1 1 1 1 1 1 1 1 1 1 1 1 1 1 1 0 0 0 1 1 0 1 1 1 1 1 1 1 1 1 0 1 1 1 1 1\n",
      " 1 1 1 1 1 1 0 0 0 0 1 1 0 1 1 1 1 1 1 1 1 1 1 1 1 1 1 1 1 1 1 1 1 1 1 1 1\n",
      " 1 1 1 1 1 1 1 0 1 0 1 0 0 0 0 0 0 0 0 0 0 0 0 0 0 0 0 0 0 0 0 0 1 1 1 0 0\n",
      " 1 0 1 1 1 1 0 0 1 0 0 0 0 0 0 1 1 0 0 0 0 1 1 0 0 0 0 1 0 1 1 1 1 1 1 0 1\n",
      " 0 0 0 0 0 0 1 0 0 0 0 0 0 0 0 1 1 0 0 0 0 0 1 0 1 1 0 0 0 0 0 1 0 1 1 1 0\n",
      " 1 0 0 1 1 0 0 0 0 0 0 0 0 1 0 1 0 0 0 1 1 1 0 0 0 0 0 0 0 0 0 0 1 1 1 1 1\n",
      " 1 1 1 1 1 1 0 0 0 0 1 1 1 1 1 1 1 1 1 1 1 1 1 0 0 1 1 1 1 0 0 1 0 0]\n"
     ]
    }
   ],
   "source": [
    "print(\"Centroids:\", centroids)\n",
    "print(\"Cluster Assignment:\", clusters)"
   ]
  },
  {
   "cell_type": "markdown",
   "id": "b42cde03-ca30-4ba8-acc4-27bdf4eaeab4",
   "metadata": {},
   "source": [
    "- print(\"Centroids:\", centroids): Mencetak nilai centroid yang telah dihitung sebelumnya.\n",
    "- print(\"Cluster Assignment:\", clusters): Mencetak penugasan cluster, yaitu array yang menunjukkan cluster mana yang diterapkan pada setiap data."
   ]
  },
  {
   "cell_type": "markdown",
   "id": "69811a3a-4e2e-4b28-a589-67427a7d83b6",
   "metadata": {},
   "source": [
    "#### Visualisasi Hasil K-Means:"
   ]
  },
  {
   "cell_type": "code",
   "execution_count": 99,
   "id": "328e7275-5f31-48e3-b20c-ab1c6e12b976",
   "metadata": {},
   "outputs": [
    {
     "data": {
      "image/png": "[encoded data removed]",
      "text/plain": [
       "<Figure size 640x480 with 1 Axes>"
      ]
     },
     "metadata": {},
     "output_type": "display_data"
    }
   ],
   "source": [
    "for cluster in range(k):\n",
    "    plt.scatter(normalized_features[clusters == cluster, 0], normalized_features[clusters == cluster, 1], label=f'Cluster {cluster + 1}')\n",
    "plt.scatter(centroids[:, 0], centroids[:, 1], c='black', marker='x', s=100, label='Centroids')\n",
    "plt.xlabel('Sales (normalized)')\n",
    "plt.ylabel('Profit (normalized)')\n",
    "plt.title('K-Means Clustering')\n",
    "plt.legend()\n",
    "plt.show()\n"
   ]
  },
  {
   "cell_type": "markdown",
   "id": "a82ee75d-2b2f-4704-820b-d701afc2d7e3",
   "metadata": {},
   "source": [
    "- for cluster in range(k):: Melakukan iterasi untuk setiap cluster yang ada.\n",
    "- plt.scatter(normalized_features[clusters == cluster, 0], normalized_features[clusters == cluster, 1], label=f'Cluster {cluster + 1}'): Untuk setiap cluster, data yang tergabung dalam cluster tersebut dipetakan dan digambarkan sebagai titik pada grafik dengan warna yang berbeda.\n",
    "- plt.scatter(centroids[:, 0], centroids[:, 1], c='black', marker='x', s=100, label='Centroids'): Centroid untuk setiap cluster digambarkan sebagai titik hitam dengan marker \"X\" dan ukuran 100.\n",
    "- plt.xlabel('Sales (normalized)'): Memberi label sumbu X sebagai 'Sales (normalized)'.\n",
    "- plt.ylabel('Profit (normalized)'): Memberi label sumbu Y sebagai 'Profit (normalized)'.\n",
    "- plt.title('K-Means Clustering'): Memberi judul pada grafik 'K-Means Clustering'.\n",
    "- plt.legend(): Menampilkan legenda yang menunjukkan label untuk masing-masing cluster dan centroid.\n",
    "- plt.show(): Menampilkan grafik."
   ]
  }
 ],
 "metadata": {
  "kernelspec": {
   "display_name": "Python 3 (ipykernel)",
   "language": "python",
   "name": "python3"
  },
  "language_info": {
   "codemirror_mode": {
    "name": "ipython",
    "version": 3
   },
   "file_extension": ".py",
   "mimetype": "text/x-python",
   "name": "python",
   "nbconvert_exporter": "python",
   "pygments_lexer": "ipython3",
   "version": "3.12.4"
  }
 },
 "nbformat": 4,
 "nbformat_minor": 5
}
